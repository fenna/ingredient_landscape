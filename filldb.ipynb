{
 "metadata": {
  "language_info": {
   "codemirror_mode": {
    "name": "ipython",
    "version": 3
   },
   "file_extension": ".py",
   "mimetype": "text/x-python",
   "name": "python",
   "nbconvert_exporter": "python",
   "pygments_lexer": "ipython3",
   "version": "3.9.1-final"
  },
  "orig_nbformat": 2,
  "kernelspec": {
   "name": "python3",
   "display_name": "Python 3",
   "language": "python"
  }
 },
 "nbformat": 4,
 "nbformat_minor": 2,
 "cells": [
  {
   "cell_type": "code",
   "execution_count": 1,
   "metadata": {},
   "outputs": [],
   "source": [
    "import numpy as np\n",
    "import pandas as pd \n"
   ]
  },
  {
   "cell_type": "code",
   "execution_count": 2,
   "metadata": {},
   "outputs": [
    {
     "output_type": "stream",
     "name": "stdout",
     "text": [
      "Number of recipes in dataset:  2231142\nlast 5 recipes:\n"
     ]
    },
    {
     "output_type": "execute_result",
     "data": {
      "text/plain": [
       "         Unnamed: 0                                          title  \\\n",
       "2231137     2231137                            Sunny's Fake Crepes   \n",
       "2231138     2231138                                     Devil Eggs   \n",
       "2231139     2231139  Extremely Easy and Quick - Namul Daikon Salad   \n",
       "2231140     2231140     Pan-Roasted Pork Chops With Apple Fritters   \n",
       "2231141     2231141                 Polpette in Spicy Tomato Sauce   \n",
       "\n",
       "                                               ingredients  \\\n",
       "2231137  [\"1/2 cup chocolate hazelnut spread (recommend...   \n",
       "2231138  [\"1 dozen eggs\", \"1 paprika\", \"1 salt and pepp...   \n",
       "2231139  [\"150 grams Daikon radish\", \"1 tbsp Sesame oil...   \n",
       "2231140  [\"1 cup apple cider\", \"6 tablespoons sugar\", \"...   \n",
       "2231141  [\"1 pound ground veal\", \"1/2 pound sweet Itali...   \n",
       "\n",
       "                                                directions  \\\n",
       "2231137  [\"Spread hazelnut spread on 1 side of each tor...   \n",
       "2231138  [\"Boil eggs on medium for 30mins.\", \"Then cool...   \n",
       "2231139  [\"Julienne the daikon and squeeze out the exce...   \n",
       "2231140  [\"In a large bowl, mix the apple cider with 4 ...   \n",
       "2231141  [\"Preheat the oven to 350.\", \"In a bowl, mix t...   \n",
       "\n",
       "                                                      link     source  \\\n",
       "2231137  www.foodnetwork.com/recipes/sunny-anderson/sun...  Recipes1M   \n",
       "2231138           cookpad.com/us/recipes/355411-devil-eggs  Recipes1M   \n",
       "2231139  cookpad.com/us/recipes/153324-extremely-easy-a...  Recipes1M   \n",
       "2231140                cooking.nytimes.com/recipes/1015164  Recipes1M   \n",
       "2231141  www.foodandwine.com/recipes/polpette-spicy-tom...  Recipes1M   \n",
       "\n",
       "                                                       NER  \n",
       "2231137  [\"chocolate hazelnut spread\", \"tortillas\", \"bu...  \n",
       "2231138  [\"eggs\", \"paprika\", \"salt\", \"choice\", \"miracle...  \n",
       "2231139  [\"radish\", \"Sesame oil\", \"White sesame seeds\",...  \n",
       "2231140  [\"apple cider\", \"sugar\", \"kosher salt\", \"bay l...  \n",
       "2231141  [\"ground veal\", \"sausage\", \"bread crumbs\", \"mi...  "
      ],
      "text/html": "<div>\n<style scoped>\n    .dataframe tbody tr th:only-of-type {\n        vertical-align: middle;\n    }\n\n    .dataframe tbody tr th {\n        vertical-align: top;\n    }\n\n    .dataframe thead th {\n        text-align: right;\n    }\n</style>\n<table border=\"1\" class=\"dataframe\">\n  <thead>\n    <tr style=\"text-align: right;\">\n      <th></th>\n      <th>Unnamed: 0</th>\n      <th>title</th>\n      <th>ingredients</th>\n      <th>directions</th>\n      <th>link</th>\n      <th>source</th>\n      <th>NER</th>\n    </tr>\n  </thead>\n  <tbody>\n    <tr>\n      <th>2231137</th>\n      <td>2231137</td>\n      <td>Sunny's Fake Crepes</td>\n      <td>[\"1/2 cup chocolate hazelnut spread (recommend...</td>\n      <td>[\"Spread hazelnut spread on 1 side of each tor...</td>\n      <td>www.foodnetwork.com/recipes/sunny-anderson/sun...</td>\n      <td>Recipes1M</td>\n      <td>[\"chocolate hazelnut spread\", \"tortillas\", \"bu...</td>\n    </tr>\n    <tr>\n      <th>2231138</th>\n      <td>2231138</td>\n      <td>Devil Eggs</td>\n      <td>[\"1 dozen eggs\", \"1 paprika\", \"1 salt and pepp...</td>\n      <td>[\"Boil eggs on medium for 30mins.\", \"Then cool...</td>\n      <td>cookpad.com/us/recipes/355411-devil-eggs</td>\n      <td>Recipes1M</td>\n      <td>[\"eggs\", \"paprika\", \"salt\", \"choice\", \"miracle...</td>\n    </tr>\n    <tr>\n      <th>2231139</th>\n      <td>2231139</td>\n      <td>Extremely Easy and Quick - Namul Daikon Salad</td>\n      <td>[\"150 grams Daikon radish\", \"1 tbsp Sesame oil...</td>\n      <td>[\"Julienne the daikon and squeeze out the exce...</td>\n      <td>cookpad.com/us/recipes/153324-extremely-easy-a...</td>\n      <td>Recipes1M</td>\n      <td>[\"radish\", \"Sesame oil\", \"White sesame seeds\",...</td>\n    </tr>\n    <tr>\n      <th>2231140</th>\n      <td>2231140</td>\n      <td>Pan-Roasted Pork Chops With Apple Fritters</td>\n      <td>[\"1 cup apple cider\", \"6 tablespoons sugar\", \"...</td>\n      <td>[\"In a large bowl, mix the apple cider with 4 ...</td>\n      <td>cooking.nytimes.com/recipes/1015164</td>\n      <td>Recipes1M</td>\n      <td>[\"apple cider\", \"sugar\", \"kosher salt\", \"bay l...</td>\n    </tr>\n    <tr>\n      <th>2231141</th>\n      <td>2231141</td>\n      <td>Polpette in Spicy Tomato Sauce</td>\n      <td>[\"1 pound ground veal\", \"1/2 pound sweet Itali...</td>\n      <td>[\"Preheat the oven to 350.\", \"In a bowl, mix t...</td>\n      <td>www.foodandwine.com/recipes/polpette-spicy-tom...</td>\n      <td>Recipes1M</td>\n      <td>[\"ground veal\", \"sausage\", \"bread crumbs\", \"mi...</td>\n    </tr>\n  </tbody>\n</table>\n</div>"
     },
     "metadata": {},
     "execution_count": 2
    }
   ],
   "source": [
    "recipe_table = pd.read_csv('full_dataset.csv')\n",
    "recipe_table.tail(2)"
   ]
  },
  {
   "cell_type": "code",
   "execution_count": 3,
   "metadata": {},
   "outputs": [],
   "source": [
    "import sqlite3\n",
    "conn = sqlite3.connect('Ingredients.db')\n",
    "c = conn.cursor()\n",
    "\n",
    "#create table if not exist\n",
    "c.execute('CREATE TABLE IF NOT EXISTS recipe (id TEXT PRIMARY KEY NOT NULL UNIQUE, tag TEXT, tag_value TEXT)')\n",
    "conn.commit()\n",
    "\n"
   ]
  },
  {
   "cell_type": "code",
   "execution_count": 49,
   "metadata": {
    "tags": []
   },
   "outputs": [
    {
     "output_type": "stream",
     "name": "stdout",
     "text": [
      "         tag              tag_value\nrec_0  title    No-Bake Nut Cookies\nrec_1  title  Jewell Ball'S Chicken\nrec_2  title            Creamy Corn\nrec_3  title          Chicken Funny\nrec_4  title   Reeses Cups(Candy)  \n"
     ]
    }
   ],
   "source": [
    "\n",
    "tag = ['title'] * len(recipe_table)\n",
    "tag_value = recipe_table['title']\n",
    "recipes = pd.DataFrame(list(zip(tag, tag_value)), \n",
    "               columns =['tag', 'tag_value']) \n",
    "recipes.index = 'rec_' + recipes.index.astype(str) \n",
    "print(recipes.head())\n",
    "\n"
   ]
  },
  {
   "cell_type": "code",
   "execution_count": 50,
   "metadata": {},
   "outputs": [],
   "source": [
    "recipes.to_sql('recipe', conn, if_exists='replace',\n",
    "           index_label='id')"
   ]
  },
  {
   "cell_type": "code",
   "execution_count": null,
   "metadata": {},
   "outputs": [],
   "source": []
  }
 ]
}