{
 "cells": [
  {
   "cell_type": "code",
   "execution_count": 1,
   "id": "concrete-requirement",
   "metadata": {},
   "outputs": [],
   "source": [
    "import pandas as pd\n",
    "import sqlite3\n",
    "conn = sqlite3.connect('recipe.db')\n",
    "import matplotlib as plt\n",
    "from geotext import GeoText"
   ]
  },
  {
   "cell_type": "code",
   "execution_count": 2,
   "id": "soviet-berlin",
   "metadata": {},
   "outputs": [
    {
     "data": {
      "text/plain": [
       "['i',\n",
       " 'me',\n",
       " 'my',\n",
       " 'myself',\n",
       " 'we',\n",
       " 'our',\n",
       " 'ours',\n",
       " 'ourselves',\n",
       " 'you',\n",
       " \"you're\",\n",
       " \"you've\",\n",
       " \"you'll\",\n",
       " \"you'd\",\n",
       " 'your',\n",
       " 'yours',\n",
       " 'yourself',\n",
       " 'yourselves',\n",
       " 'he',\n",
       " 'him',\n",
       " 'his',\n",
       " 'himself',\n",
       " 'she',\n",
       " \"she's\",\n",
       " 'her',\n",
       " 'hers',\n",
       " 'herself',\n",
       " 'it',\n",
       " \"it's\",\n",
       " 'its',\n",
       " 'itself',\n",
       " 'they',\n",
       " 'them',\n",
       " 'their',\n",
       " 'theirs',\n",
       " 'themselves',\n",
       " 'what',\n",
       " 'which',\n",
       " 'who',\n",
       " 'whom',\n",
       " 'this',\n",
       " 'that',\n",
       " \"that'll\",\n",
       " 'these',\n",
       " 'those',\n",
       " 'am',\n",
       " 'is',\n",
       " 'are',\n",
       " 'was',\n",
       " 'were',\n",
       " 'be',\n",
       " 'been',\n",
       " 'being',\n",
       " 'have',\n",
       " 'has',\n",
       " 'had',\n",
       " 'having',\n",
       " 'do',\n",
       " 'does',\n",
       " 'did',\n",
       " 'doing',\n",
       " 'a',\n",
       " 'an',\n",
       " 'the',\n",
       " 'and',\n",
       " 'but',\n",
       " 'if',\n",
       " 'or',\n",
       " 'because',\n",
       " 'as',\n",
       " 'until',\n",
       " 'while',\n",
       " 'of',\n",
       " 'at',\n",
       " 'by',\n",
       " 'for',\n",
       " 'with',\n",
       " 'about',\n",
       " 'against',\n",
       " 'between',\n",
       " 'into',\n",
       " 'through',\n",
       " 'during',\n",
       " 'before',\n",
       " 'after',\n",
       " 'above',\n",
       " 'below',\n",
       " 'to',\n",
       " 'from',\n",
       " 'up',\n",
       " 'down',\n",
       " 'in',\n",
       " 'out',\n",
       " 'on',\n",
       " 'off',\n",
       " 'over',\n",
       " 'under',\n",
       " 'again',\n",
       " 'further',\n",
       " 'then',\n",
       " 'once',\n",
       " 'here',\n",
       " 'there',\n",
       " 'when',\n",
       " 'where',\n",
       " 'why',\n",
       " 'how',\n",
       " 'all',\n",
       " 'any',\n",
       " 'both',\n",
       " 'each',\n",
       " 'few',\n",
       " 'more',\n",
       " 'most',\n",
       " 'other',\n",
       " 'some',\n",
       " 'such',\n",
       " 'no',\n",
       " 'nor',\n",
       " 'not',\n",
       " 'only',\n",
       " 'own',\n",
       " 'same',\n",
       " 'so',\n",
       " 'than',\n",
       " 'too',\n",
       " 'very',\n",
       " 's',\n",
       " 't',\n",
       " 'can',\n",
       " 'will',\n",
       " 'just',\n",
       " 'don',\n",
       " \"don't\",\n",
       " 'should',\n",
       " \"should've\",\n",
       " 'now',\n",
       " 'd',\n",
       " 'll',\n",
       " 'm',\n",
       " 'o',\n",
       " 're',\n",
       " 've',\n",
       " 'y',\n",
       " 'ain',\n",
       " 'aren',\n",
       " \"aren't\",\n",
       " 'couldn',\n",
       " \"couldn't\",\n",
       " 'didn',\n",
       " \"didn't\",\n",
       " 'doesn',\n",
       " \"doesn't\",\n",
       " 'hadn',\n",
       " \"hadn't\",\n",
       " 'hasn',\n",
       " \"hasn't\",\n",
       " 'haven',\n",
       " \"haven't\",\n",
       " 'isn',\n",
       " \"isn't\",\n",
       " 'ma',\n",
       " 'mightn',\n",
       " \"mightn't\",\n",
       " 'mustn',\n",
       " \"mustn't\",\n",
       " 'needn',\n",
       " \"needn't\",\n",
       " 'shan',\n",
       " \"shan't\",\n",
       " 'shouldn',\n",
       " \"shouldn't\",\n",
       " 'wasn',\n",
       " \"wasn't\",\n",
       " 'weren',\n",
       " \"weren't\",\n",
       " 'won',\n",
       " \"won't\",\n",
       " 'wouldn',\n",
       " \"wouldn't\"]"
      ]
     },
     "execution_count": 2,
     "metadata": {},
     "output_type": "execute_result"
    }
   ],
   "source": [
    "with open('english') as e:\n",
    "    stopwords= [word.strip() for word in e]\n",
    "stopwords"
   ]
  },
  {
   "cell_type": "code",
   "execution_count": 3,
   "id": "english-angel",
   "metadata": {},
   "outputs": [
    {
     "name": "stdout",
     "output_type": "stream",
     "text": [
      "steps\n",
      "                          tag_value  \\\n",
      "0      pepper and tomato cream soup   \n",
      "1      pepper and tomato cream soup   \n",
      "2      pepper and tomato cream soup   \n",
      "3      pepper and tomato cream soup   \n",
      "4      pepper and tomato cream soup   \n",
      "...                             ...   \n",
      "13035      my homestyle tomato soup   \n",
      "13036      my homestyle tomato soup   \n",
      "13037      my homestyle tomato soup   \n",
      "13038      my homestyle tomato soup   \n",
      "13039      my homestyle tomato soup   \n",
      "\n",
      "                                               tag_value  \n",
      "0      in a wide-bottomed saucepan, add tomatoes and ...  \n",
      "1                            cook until peppers are limp  \n",
      "2       add broth and simmer slowly for about 10 minutes  \n",
      "3      stir in milk, add salt and hot pepper seasonin...  \n",
      "4         mix cheese into the soup and serve immediately  \n",
      "...                                                  ...  \n",
      "13035                                             season  \n",
      "13036  cook celery, onion, and green pepper in 1 cup ...  \n",
      "13037                   add tomatoes; cook for 7 minutes  \n",
      "13038    heat milk in doulble boiler; add tomato mixture  \n",
      "13039                                      serve at once  \n",
      "\n",
      "[13040 rows x 2 columns]\n"
     ]
    }
   ],
   "source": [
    "sql = '''SELECT R.tag_value, S.tag_value \n",
    "         FROM recipe R \n",
    "         JOIN recipe_step RS ON R.ID = RS.recipe_id\n",
    "         JOIN step S ON RS.step_id = S.ID\n",
    "         WHERE R.tag_value LIKE '%tomato%' \n",
    "         AND R.tag_value LIKE '%soup%'\n",
    "         ;'''\n",
    "\n",
    "df_tomato_soup_steps = pd.read_sql(sql, conn)\n",
    "print(\"steps\")\n",
    "print(df_tomato_soup_steps)"
   ]
  },
  {
   "cell_type": "code",
   "execution_count": 4,
   "id": "minus-reality",
   "metadata": {},
   "outputs": [
    {
     "name": "stdout",
     "output_type": "stream",
     "text": [
      "ingredients\n",
      "       tag_value\n",
      "0         garlic\n",
      "1      olive oil\n",
      "2        parsley\n",
      "3           salt\n",
      "4     fish broth\n",
      "...          ...\n",
      "2188       bread\n",
      "2189     mussels\n",
      "2190       onion\n",
      "2191         egg\n",
      "2192    rockfish\n",
      "\n",
      "[2193 rows x 1 columns]\n"
     ]
    }
   ],
   "source": [
    "sql = '''SELECT R.ID, R.tag_value, N.tag_value \n",
    "         FROM recipe R \n",
    "         JOIN recipe_ner RN ON R.ID = RN.recipe_id\n",
    "         JOIN ner N ON RN.ner_id = N.ID\n",
    "         WHERE R.tag_value LIKE '%fish%' \n",
    "         AND R.tag_value LIKE '%soup%'\n",
    "         ;'''\n",
    "\n",
    "df_tomato_soup_ner = pd.read_sql(sql, conn)\n",
    "\n",
    "\n",
    "print(\"ingredients\")\n",
    "print(df_tomato_soup_ner.iloc[:,2:3])"
   ]
  },
  {
   "cell_type": "code",
   "execution_count": 5,
   "id": "classical-running",
   "metadata": {},
   "outputs": [],
   "source": [
    "freq = df_tomato_soup_ner.iloc[:,2:3].value_counts().nlargest(30)"
   ]
  },
  {
   "cell_type": "code",
   "execution_count": 6,
   "id": "inside-sponsorship",
   "metadata": {},
   "outputs": [
    {
     "data": {
      "text/plain": [
       "tag_value     \n",
       "salt              110\n",
       "garlic             95\n",
       "tomatoes           70\n",
       "water              64\n",
       "onion              53\n",
       "olive oil          50\n",
       "white wine         45\n",
       "fish               40\n",
       "thyme              38\n",
       "onions             37\n",
       "parsley            37\n",
       "celery             30\n",
       "bay leaf           28\n",
       "carrots            28\n",
       "potatoes           26\n",
       "shrimp             23\n",
       "cilantro           22\n",
       "butter             22\n",
       "fish stock         22\n",
       "mussels            20\n",
       "ginger             18\n",
       "soy sauce          17\n",
       "scallions          17\n",
       "carrot             17\n",
       "cayenne pepper     16\n",
       "leeks              16\n",
       "fish sauce         14\n",
       "red pepper         13\n",
       "lemon juice        13\n",
       "chicken broth      13\n",
       "dtype: int64"
      ]
     },
     "execution_count": 6,
     "metadata": {},
     "output_type": "execute_result"
    }
   ],
   "source": [
    "freq"
   ]
  },
  {
   "cell_type": "code",
   "execution_count": 7,
   "id": "interstate-maker",
   "metadata": {},
   "outputs": [
    {
     "data": {
      "image/png": "[encoded data removed]",
      "text/plain": [
       "<Figure size 432x288 with 1 Axes>"
      ]
     },
     "metadata": {
      "needs_background": "light"
     },
     "output_type": "display_data"
    }
   ],
   "source": [
    "freq.plot(kind=\"bar\", title = \"ingredient frequencies of tomato soup\", xlabel = 'ingredient', color = 'red', alpha=0.7);"
   ]
  },
  {
   "cell_type": "code",
   "execution_count": 8,
   "id": "valid-balloon",
   "metadata": {},
   "outputs": [
    {
     "data": {
      "text/html": [
       "<div>\n",
       "<style scoped>\n",
       "    .dataframe tbody tr th:only-of-type {\n",
       "        vertical-align: middle;\n",
       "    }\n",
       "\n",
       "    .dataframe tbody tr th {\n",
       "        vertical-align: top;\n",
       "    }\n",
       "\n",
       "    .dataframe thead th {\n",
       "        text-align: right;\n",
       "    }\n",
       "</style>\n",
       "<table border=\"1\" class=\"dataframe\">\n",
       "  <thead>\n",
       "    <tr style=\"text-align: right;\">\n",
       "      <th></th>\n",
       "      <th>ID</th>\n",
       "      <th>tag_value</th>\n",
       "      <th>tag_value</th>\n",
       "    </tr>\n",
       "  </thead>\n",
       "  <tbody>\n",
       "    <tr>\n",
       "      <th>0</th>\n",
       "      <td>REC_1146</td>\n",
       "      <td>fish soup</td>\n",
       "      <td>garlic</td>\n",
       "    </tr>\n",
       "    <tr>\n",
       "      <th>1</th>\n",
       "      <td>REC_1146</td>\n",
       "      <td>fish soup</td>\n",
       "      <td>olive oil</td>\n",
       "    </tr>\n",
       "    <tr>\n",
       "      <th>2</th>\n",
       "      <td>REC_1146</td>\n",
       "      <td>fish soup</td>\n",
       "      <td>parsley</td>\n",
       "    </tr>\n",
       "    <tr>\n",
       "      <th>3</th>\n",
       "      <td>REC_1146</td>\n",
       "      <td>fish soup</td>\n",
       "      <td>salt</td>\n",
       "    </tr>\n",
       "    <tr>\n",
       "      <th>4</th>\n",
       "      <td>REC_1146</td>\n",
       "      <td>fish soup</td>\n",
       "      <td>fish broth</td>\n",
       "    </tr>\n",
       "  </tbody>\n",
       "</table>\n",
       "</div>"
      ],
      "text/plain": [
       "         ID  tag_value   tag_value\n",
       "0  REC_1146  fish soup      garlic\n",
       "1  REC_1146  fish soup   olive oil\n",
       "2  REC_1146  fish soup     parsley\n",
       "3  REC_1146  fish soup        salt\n",
       "4  REC_1146  fish soup  fish broth"
      ]
     },
     "execution_count": 8,
     "metadata": {},
     "output_type": "execute_result"
    }
   ],
   "source": [
    "df_tomato_soup_ner.head()"
   ]
  },
  {
   "cell_type": "code",
   "execution_count": 9,
   "id": "novel-slope",
   "metadata": {},
   "outputs": [],
   "source": [
    "# add column count to recipe table\n",
    "df = df_tomato_soup_ner.copy()\n",
    "recipe_count = df.groupby(by=\"ID\").count()\n",
    "recipe_count = recipe_count.iloc[:,1:2].reset_index().rename(columns = {'tag_value':'count'})\n",
    "dfc = df_tomato_soup_ner.merge(recipe_count, left_on='ID', right_on='ID')"
   ]
  },
  {
   "cell_type": "code",
   "execution_count": 10,
   "id": "voluntary-plain",
   "metadata": {},
   "outputs": [],
   "source": [
    "rc = recipe_count.drop_duplicates(subset = 'ID')"
   ]
  },
  {
   "cell_type": "code",
   "execution_count": 11,
   "id": "opened-scott",
   "metadata": {},
   "outputs": [
    {
     "data": {
      "text/html": [
       "<div>\n",
       "<style scoped>\n",
       "    .dataframe tbody tr th:only-of-type {\n",
       "        vertical-align: middle;\n",
       "    }\n",
       "\n",
       "    .dataframe tbody tr th {\n",
       "        vertical-align: top;\n",
       "    }\n",
       "\n",
       "    .dataframe thead th {\n",
       "        text-align: right;\n",
       "    }\n",
       "</style>\n",
       "<table border=\"1\" class=\"dataframe\">\n",
       "  <thead>\n",
       "    <tr style=\"text-align: right;\">\n",
       "      <th></th>\n",
       "      <th>count</th>\n",
       "    </tr>\n",
       "  </thead>\n",
       "  <tbody>\n",
       "    <tr>\n",
       "      <th>count</th>\n",
       "      <td>166.000000</td>\n",
       "    </tr>\n",
       "    <tr>\n",
       "      <th>mean</th>\n",
       "      <td>13.210843</td>\n",
       "    </tr>\n",
       "    <tr>\n",
       "      <th>std</th>\n",
       "      <td>4.767072</td>\n",
       "    </tr>\n",
       "    <tr>\n",
       "      <th>min</th>\n",
       "      <td>3.000000</td>\n",
       "    </tr>\n",
       "    <tr>\n",
       "      <th>25%</th>\n",
       "      <td>10.250000</td>\n",
       "    </tr>\n",
       "    <tr>\n",
       "      <th>50%</th>\n",
       "      <td>13.000000</td>\n",
       "    </tr>\n",
       "    <tr>\n",
       "      <th>75%</th>\n",
       "      <td>16.000000</td>\n",
       "    </tr>\n",
       "    <tr>\n",
       "      <th>max</th>\n",
       "      <td>30.000000</td>\n",
       "    </tr>\n",
       "  </tbody>\n",
       "</table>\n",
       "</div>"
      ],
      "text/plain": [
       "            count\n",
       "count  166.000000\n",
       "mean    13.210843\n",
       "std      4.767072\n",
       "min      3.000000\n",
       "25%     10.250000\n",
       "50%     13.000000\n",
       "75%     16.000000\n",
       "max     30.000000"
      ]
     },
     "execution_count": 11,
     "metadata": {},
     "output_type": "execute_result"
    }
   ],
   "source": [
    "rc.describe()"
   ]
  },
  {
   "cell_type": "code",
   "execution_count": 12,
   "id": "lined-siemens",
   "metadata": {
    "scrolled": true
   },
   "outputs": [
    {
     "data": {
      "text/plain": [
       "<AxesSubplot:title={'center':'tomato soup ingredients frequencies'}, xlabel='Frequency', ylabel='number of ingredients'>"
      ]
     },
     "execution_count": 12,
     "metadata": {},
     "output_type": "execute_result"
    },
    {
     "data": {
      "image/png": "[encoded data removed]",
      "text/plain": [
       "<Figure size 432x288 with 1 Axes>"
      ]
     },
     "metadata": {
      "needs_background": "light"
     },
     "output_type": "display_data"
    }
   ],
   "source": [
    "rc.plot(kind='hist',\n",
    "        alpha=0.7,\n",
    "        bins=60,\n",
    "        title='tomato soup ingredients frequencies',\n",
    "        grid=True,\n",
    "        orientation='horizontal',\n",
    "        color=['red'],\n",
    "        ylabel = \"number of ingredients\")"
   ]
  },
  {
   "cell_type": "markdown",
   "id": "apparent-facial",
   "metadata": {},
   "source": [
    "# Get source information\n",
    "\n",
    "I tried a library geotext to find a hint for the origin https://geotext.readthedocs.io/en/latest/readme.html \n",
    "It uses the words of the recipe title to get the country keys. I downloaded the country information from https://www.geonames.org/countries/"
   ]
  },
  {
   "cell_type": "code",
   "execution_count": 13,
   "id": "modular-frame",
   "metadata": {},
   "outputs": [],
   "source": [
    "# Get origin\n",
    "def get_origin(text):\n",
    "    \"\"\" \n",
    "    function that searches for countries associated with a text\n",
    "    The words of the text needs to be capitalized and seperated by a comma\n",
    "    The Geotext returns a list of country abbreviations (isocodes)\n",
    "    It uses the country information from https://www.geonames.org/countries/ \n",
    "    to relate the name of the country to the isocode\n",
    "    \n",
    "    input: Text\n",
    "    output: country names seperated by space\n",
    "    \n",
    "    \"\"\"\n",
    "    freqwords = ['green', 'red', 'orange', 'yellow', 'cream', 'creamy', 'tomato', 'soup', 'leek','best']\n",
    "    countries = get_countries()\n",
    "    t = \"\"\n",
    "    textlist = text.split(\" \")\n",
    "    textlist = [word.lower() for word in textlist if not word in stopwords and not word in freqwords]\n",
    "    textlist = [word.capitalize() for word in textlist]\n",
    "    text = \",\".join(textlist)\n",
    "    result = GeoText(text).country_mentions.keys()\n",
    "    for i in result:\n",
    "        try:\n",
    "            t += countries.loc[countries['iso2'] == i.strip()]['country'].values[0] + ' '\n",
    "        except:\n",
    "            try:\n",
    "                t += {countries.loc[countries['fips'] == i.strip()]['country'].values[0]} + ' '\n",
    "            except:\n",
    "                t = i\n",
    "    return t\n",
    "\n",
    "\n",
    "def get_countries():\n",
    "    return pd.read_csv('countries', sep = '\\t')"
   ]
  },
  {
   "cell_type": "markdown",
   "id": "understood-owner",
   "metadata": {},
   "source": [
    "# Fetch the selection from the database"
   ]
  },
  {
   "cell_type": "code",
   "execution_count": 14,
   "id": "technical-engineering",
   "metadata": {},
   "outputs": [
    {
     "data": {
      "text/html": [
       "<div>\n",
       "<style scoped>\n",
       "    .dataframe tbody tr th:only-of-type {\n",
       "        vertical-align: middle;\n",
       "    }\n",
       "\n",
       "    .dataframe tbody tr th {\n",
       "        vertical-align: top;\n",
       "    }\n",
       "\n",
       "    .dataframe thead th {\n",
       "        text-align: right;\n",
       "    }\n",
       "</style>\n",
       "<table border=\"1\" class=\"dataframe\">\n",
       "  <thead>\n",
       "    <tr style=\"text-align: right;\">\n",
       "      <th></th>\n",
       "      <th>tag_value</th>\n",
       "    </tr>\n",
       "  </thead>\n",
       "  <tbody>\n",
       "    <tr>\n",
       "      <th>0</th>\n",
       "      <td>pepper and tomato cream soup</td>\n",
       "    </tr>\n",
       "    <tr>\n",
       "      <th>8</th>\n",
       "      <td>yellow pepper soup with fresh tomato salsa</td>\n",
       "    </tr>\n",
       "    <tr>\n",
       "      <th>22</th>\n",
       "      <td>tomato and pepper stewsoup</td>\n",
       "    </tr>\n",
       "    <tr>\n",
       "      <th>32</th>\n",
       "      <td>funked out tomato soup</td>\n",
       "    </tr>\n",
       "    <tr>\n",
       "      <th>42</th>\n",
       "      <td>tomatoblack bean and barley soup</td>\n",
       "    </tr>\n",
       "    <tr>\n",
       "      <th>...</th>\n",
       "      <td>...</td>\n",
       "    </tr>\n",
       "    <tr>\n",
       "      <th>12981</th>\n",
       "      <td>chunky tomato basil soup with parmesan crisp</td>\n",
       "    </tr>\n",
       "    <tr>\n",
       "      <th>12995</th>\n",
       "      <td>chilled tomatotarragon soup with croutons</td>\n",
       "    </tr>\n",
       "    <tr>\n",
       "      <th>13013</th>\n",
       "      <td>quick tomatonoodle soup</td>\n",
       "    </tr>\n",
       "    <tr>\n",
       "      <th>13037</th>\n",
       "      <td>flavorful tomato soup</td>\n",
       "    </tr>\n",
       "    <tr>\n",
       "      <th>13042</th>\n",
       "      <td>my homestyle tomato soup</td>\n",
       "    </tr>\n",
       "  </tbody>\n",
       "</table>\n",
       "<p>1022 rows × 1 columns</p>\n",
       "</div>"
      ],
      "text/plain": [
       "                                          tag_value\n",
       "0                      pepper and tomato cream soup\n",
       "8        yellow pepper soup with fresh tomato salsa\n",
       "22                       tomato and pepper stewsoup\n",
       "32                           funked out tomato soup\n",
       "42                 tomatoblack bean and barley soup\n",
       "...                                             ...\n",
       "12981  chunky tomato basil soup with parmesan crisp\n",
       "12995     chilled tomatotarragon soup with croutons\n",
       "13013                       quick tomatonoodle soup\n",
       "13037                         flavorful tomato soup\n",
       "13042                      my homestyle tomato soup\n",
       "\n",
       "[1022 rows x 1 columns]"
      ]
     },
     "execution_count": 14,
     "metadata": {},
     "output_type": "execute_result"
    }
   ],
   "source": [
    "sql = '''SELECT R.tag_value\n",
    "         FROM recipe R \n",
    "         JOIN recipe_ner RN ON R.ID = RN.recipe_id\n",
    "         JOIN ner N ON RN.ner_id = N.ID\n",
    "         WHERE R.tag_value LIKE '%tomato%' \n",
    "         AND R.tag_value LIKE '%soup%'\n",
    "         ;'''\n",
    "\n",
    "dft = pd.read_sql(sql, conn)\n",
    "dft = dft.drop_duplicates()\n",
    "dft"
   ]
  },
  {
   "cell_type": "markdown",
   "id": "egyptian-transport",
   "metadata": {},
   "source": [
    "# get top 15 origin countries and plot them"
   ]
  },
  {
   "cell_type": "code",
   "execution_count": 15,
   "id": "vocational-forestry",
   "metadata": {},
   "outputs": [],
   "source": [
    "dft['origin'] = dft['tag_value'].apply(get_origin)\n",
    "dft = dft[dft.origin != '']\n",
    "dfnlargest = dft.origin.value_counts().nlargest(15)"
   ]
  },
  {
   "cell_type": "code",
   "execution_count": 16,
   "id": "usual-persian",
   "metadata": {},
   "outputs": [
    {
     "data": {
      "text/plain": [
       "<AxesSubplot:title={'center':'Top 15'}>"
      ]
     },
     "execution_count": 16,
     "metadata": {},
     "output_type": "execute_result"
    },
    {
     "data": {
      "image/png": "[encoded data removed]",
      "text/plain": [
       "<Figure size 432x288 with 1 Axes>"
      ]
     },
     "metadata": {},
     "output_type": "display_data"
    }
   ],
   "source": [
    "dfnlargest.plot(kind='pie', ylabel = '', title='Top 15')"
   ]
  },
  {
   "cell_type": "code",
   "execution_count": 17,
   "id": "southern-shock",
   "metadata": {},
   "outputs": [
    {
     "data": {
      "text/html": [
       "<div>\n",
       "<style scoped>\n",
       "    .dataframe tbody tr th:only-of-type {\n",
       "        vertical-align: middle;\n",
       "    }\n",
       "\n",
       "    .dataframe tbody tr th {\n",
       "        vertical-align: top;\n",
       "    }\n",
       "\n",
       "    .dataframe thead th {\n",
       "        text-align: right;\n",
       "    }\n",
       "</style>\n",
       "<table border=\"1\" class=\"dataframe\">\n",
       "  <thead>\n",
       "    <tr style=\"text-align: right;\">\n",
       "      <th></th>\n",
       "      <th>recipe title</th>\n",
       "      <th>origin</th>\n",
       "    </tr>\n",
       "  </thead>\n",
       "  <tbody>\n",
       "    <tr>\n",
       "      <th>167</th>\n",
       "      <td>red pepper soup with sundried tomatoes and swi...</td>\n",
       "      <td>Eswatini</td>\n",
       "    </tr>\n",
       "    <tr>\n",
       "      <th>444</th>\n",
       "      <td>crock pot creamy italian chicken tomato soup</td>\n",
       "      <td>Italy</td>\n",
       "    </tr>\n",
       "    <tr>\n",
       "      <th>703</th>\n",
       "      <td>belgian potato tomato soup</td>\n",
       "      <td>Belgium</td>\n",
       "    </tr>\n",
       "    <tr>\n",
       "      <th>752</th>\n",
       "      <td>italian tomato garden soup</td>\n",
       "      <td>Italy</td>\n",
       "    </tr>\n",
       "    <tr>\n",
       "      <th>890</th>\n",
       "      <td>fennel and tomato soup with italian sausages</td>\n",
       "      <td>Italy</td>\n",
       "    </tr>\n",
       "    <tr>\n",
       "      <th>1202</th>\n",
       "      <td>lens tomato soup</td>\n",
       "      <td>France</td>\n",
       "    </tr>\n",
       "    <tr>\n",
       "      <th>1320</th>\n",
       "      <td>hearty tomato soup with chinese eggplant and g...</td>\n",
       "      <td>China</td>\n",
       "    </tr>\n",
       "    <tr>\n",
       "      <th>1787</th>\n",
       "      <td>mexican tomato zucchini soup recipe deweydecimal</td>\n",
       "      <td>Mexico</td>\n",
       "    </tr>\n",
       "    <tr>\n",
       "      <th>2307</th>\n",
       "      <td>blt and p bacon, leek, tomato and potato soup</td>\n",
       "      <td>Netherlands</td>\n",
       "    </tr>\n",
       "    <tr>\n",
       "      <th>2508</th>\n",
       "      <td>turkey barley tomato soup</td>\n",
       "      <td>Turkey</td>\n",
       "    </tr>\n",
       "  </tbody>\n",
       "</table>\n",
       "</div>"
      ],
      "text/plain": [
       "                                           recipe title        origin\n",
       "167   red pepper soup with sundried tomatoes and swi...     Eswatini \n",
       "444        crock pot creamy italian chicken tomato soup        Italy \n",
       "703                          belgian potato tomato soup      Belgium \n",
       "752                          italian tomato garden soup        Italy \n",
       "890        fennel and tomato soup with italian sausages        Italy \n",
       "1202                                   lens tomato soup       France \n",
       "1320  hearty tomato soup with chinese eggplant and g...        China \n",
       "1787   mexican tomato zucchini soup recipe deweydecimal       Mexico \n",
       "2307      blt and p bacon, leek, tomato and potato soup  Netherlands \n",
       "2508                          turkey barley tomato soup       Turkey "
      ]
     },
     "execution_count": 17,
     "metadata": {},
     "output_type": "execute_result"
    }
   ],
   "source": [
    "dft = dft.rename(columns={'tag_value':'recipe title'})\n",
    "dft.head(10)"
   ]
  },
  {
   "cell_type": "code",
   "execution_count": null,
   "id": "southern-mobility",
   "metadata": {},
   "outputs": [],
   "source": []
  },
  {
   "cell_type": "code",
   "execution_count": null,
   "id": "viral-pursuit",
   "metadata": {},
   "outputs": [],
   "source": []
  }
 ],
 "metadata": {
  "kernelspec": {
   "display_name": "Python 3",
   "language": "python",
   "name": "python3"
  },
  "language_info": {
   "codemirror_mode": {
    "name": "ipython",
    "version": 3
   },
   "file_extension": ".py",
   "mimetype": "text/x-python",
   "name": "python",
   "nbconvert_exporter": "python",
   "pygments_lexer": "ipython3",
   "version": "3.8.2"
  }
 },
 "nbformat": 4,
 "nbformat_minor": 5
}
