{
 "cells": [
  {
   "cell_type": "code",
   "execution_count": 40,
   "id": "healthy-jacob",
   "metadata": {},
   "outputs": [],
   "source": [
    "import pandas as pd\n",
    "import sqlite3\n",
    "conn = sqlite3.connect('recipe.db')\n",
    "import matplotlib as plt"
   ]
  },
  {
   "cell_type": "code",
   "execution_count": 9,
   "id": "optional-netscape",
   "metadata": {},
   "outputs": [
    {
     "name": "stdout",
     "output_type": "stream",
     "text": [
      "steps\n",
      "                          tag_value  \\\n",
      "0      pepper and tomato cream soup   \n",
      "1      pepper and tomato cream soup   \n",
      "2      pepper and tomato cream soup   \n",
      "3      pepper and tomato cream soup   \n",
      "4      pepper and tomato cream soup   \n",
      "...                             ...   \n",
      "13035      my homestyle tomato soup   \n",
      "13036      my homestyle tomato soup   \n",
      "13037      my homestyle tomato soup   \n",
      "13038      my homestyle tomato soup   \n",
      "13039      my homestyle tomato soup   \n",
      "\n",
      "                                               tag_value  \n",
      "0      in a wide-bottomed saucepan, add tomatoes and ...  \n",
      "1                            cook until peppers are limp  \n",
      "2       add broth and simmer slowly for about 10 minutes  \n",
      "3      stir in milk, add salt and hot pepper seasonin...  \n",
      "4         mix cheese into the soup and serve immediately  \n",
      "...                                                  ...  \n",
      "13035                                             season  \n",
      "13036  cook celery, onion, and green pepper in 1 cup ...  \n",
      "13037                   add tomatoes; cook for 7 minutes  \n",
      "13038    heat milk in doulble boiler; add tomato mixture  \n",
      "13039                                      serve at once  \n",
      "\n",
      "[13040 rows x 2 columns]\n"
     ]
    }
   ],
   "source": [
    "sql = '''SELECT R.tag_value, S.tag_value \n",
    "         FROM recipe R \n",
    "         JOIN recipe_step RS ON R.ID = RS.recipe_id\n",
    "         JOIN step S ON RS.step_id = S.ID\n",
    "         WHERE R.tag_value LIKE '%tomato%' \n",
    "         AND R.tag_value LIKE '%soup%'\n",
    "         ;'''\n",
    "\n",
    "df_tomato_soup_steps = pd.read_sql(sql, conn)\n",
    "print(\"steps\")\n",
    "print(df_tomato_soup_steps)"
   ]
  },
  {
   "cell_type": "code",
   "execution_count": 15,
   "id": "recovered-procurement",
   "metadata": {},
   "outputs": [
    {
     "name": "stdout",
     "output_type": "stream",
     "text": [
      "ingredients\n",
      "                     tag_value\n",
      "0                         milk\n",
      "1                       cheese\n",
      "2           green bell peppers\n",
      "3                         salt\n",
      "4      liquid hot pepper sauce\n",
      "...                        ...\n",
      "13044             green pepper\n",
      "13045                     salt\n",
      "13046                   celery\n",
      "13047                 tomatoes\n",
      "13048                    onion\n",
      "\n",
      "[13049 rows x 1 columns]\n"
     ]
    }
   ],
   "source": [
    "sql = '''SELECT R.tag_value, N.tag_value \n",
    "         FROM recipe R \n",
    "         JOIN recipe_ner RN ON R.ID = RN.recipe_id\n",
    "         JOIN ner N ON RN.ner_id = N.ID\n",
    "         WHERE R.tag_value LIKE '%tomato%' \n",
    "         AND R.tag_value LIKE '%soup%'\n",
    "         ;'''\n",
    "\n",
    "df_tomato_soup_ner = pd.read_sql(sql, conn)\n",
    "\n",
    "\n",
    "print(\"ingredients\")\n",
    "print(df_tomato_soup_ner.iloc[:,1:2])"
   ]
  },
  {
   "cell_type": "code",
   "execution_count": 50,
   "id": "comic-training",
   "metadata": {},
   "outputs": [],
   "source": [
    "freq = df_tomato_soup_ner.iloc[:,1:2].value_counts().nlargest(30)"
   ]
  },
  {
   "cell_type": "code",
   "execution_count": 51,
   "id": "greek-attack",
   "metadata": {},
   "outputs": [
    {
     "data": {
      "text/plain": [
       "tag_value             \n",
       "tomatoes                  886\n",
       "salt                      737\n",
       "garlic                    674\n",
       "onion                     503\n",
       "olive oil                 415\n",
       "water                     295\n",
       "basil                     274\n",
       "sugar                     260\n",
       "butter                    244\n",
       "chicken broth             228\n",
       "celery                    190\n",
       "fresh basil               170\n",
       "thyme                     169\n",
       "pepper                    162\n",
       "onions                    158\n",
       "tomato paste              149\n",
       "milk                      135\n",
       "carrots                   132\n",
       "parsley                   131\n",
       "flour                     127\n",
       "carrot                    110\n",
       "heavy cream               105\n",
       "chicken                   104\n",
       "oregano                   101\n",
       "tomato soup               100\n",
       "chicken stock              96\n",
       "black pepper               93\n",
       "extra virgin olive oil     88\n",
       "parmesan cheese            87\n",
       "extravirgin olive oil      84\n",
       "dtype: int64"
      ]
     },
     "execution_count": 51,
     "metadata": {},
     "output_type": "execute_result"
    }
   ],
   "source": [
    "freq"
   ]
  },
  {
   "cell_type": "code",
   "execution_count": 53,
   "id": "adjusted-democrat",
   "metadata": {},
   "outputs": [
    {
     "data": {
      "image/png": "[encoded data removed]",
      "text/plain": [
       "<Figure size 432x288 with 1 Axes>"
      ]
     },
     "metadata": {
      "needs_background": "light"
     },
     "output_type": "display_data"
    }
   ],
   "source": [
    "freq.plot(kind=\"bar\", title = \"ingredient frequencies of tomato soup\");"
   ]
  },
  {
   "cell_type": "code",
   "execution_count": null,
   "id": "sized-difficulty",
   "metadata": {},
   "outputs": [],
   "source": []
  }
 ],
 "metadata": {
  "kernelspec": {
   "display_name": "Python 3",
   "language": "python",
   "name": "python3"
  },
  "language_info": {
   "codemirror_mode": {
    "name": "ipython",
    "version": 3
   },
   "file_extension": ".py",
   "mimetype": "text/x-python",
   "name": "python",
   "nbconvert_exporter": "python",
   "pygments_lexer": "ipython3",
   "version": "3.9.1"
  }
 },
 "nbformat": 4,
 "nbformat_minor": 5
}
