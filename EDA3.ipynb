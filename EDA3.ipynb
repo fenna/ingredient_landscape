{
 "cells": [
  {
   "cell_type": "code",
   "execution_count": 1,
   "id": "concrete-requirement",
   "metadata": {},
   "outputs": [],
   "source": [
    "import pandas as pd\n",
    "import sqlite3\n",
    "conn = sqlite3.connect('recipe.db')\n",
    "import matplotlib as plt\n",
    "from geotext import GeoText"
   ]
  },
  {
   "cell_type": "code",
   "execution_count": 2,
   "id": "english-angel",
   "metadata": {},
   "outputs": [
    {
     "name": "stdout",
     "output_type": "stream",
     "text": [
      "steps\n",
      "                          tag_value  \\\n",
      "0      pepper and tomato cream soup   \n",
      "1      pepper and tomato cream soup   \n",
      "2      pepper and tomato cream soup   \n",
      "3      pepper and tomato cream soup   \n",
      "4      pepper and tomato cream soup   \n",
      "...                             ...   \n",
      "13035      my homestyle tomato soup   \n",
      "13036      my homestyle tomato soup   \n",
      "13037      my homestyle tomato soup   \n",
      "13038      my homestyle tomato soup   \n",
      "13039      my homestyle tomato soup   \n",
      "\n",
      "                                               tag_value  \n",
      "0      in a wide-bottomed saucepan, add tomatoes and ...  \n",
      "1                            cook until peppers are limp  \n",
      "2       add broth and simmer slowly for about 10 minutes  \n",
      "3      stir in milk, add salt and hot pepper seasonin...  \n",
      "4         mix cheese into the soup and serve immediately  \n",
      "...                                                  ...  \n",
      "13035                                             season  \n",
      "13036  cook celery, onion, and green pepper in 1 cup ...  \n",
      "13037                   add tomatoes; cook for 7 minutes  \n",
      "13038    heat milk in doulble boiler; add tomato mixture  \n",
      "13039                                      serve at once  \n",
      "\n",
      "[13040 rows x 2 columns]\n"
     ]
    }
   ],
   "source": [
    "sql = '''SELECT R.tag_value, S.tag_value \n",
    "         FROM recipe R \n",
    "         JOIN recipe_step RS ON R.ID = RS.recipe_id\n",
    "         JOIN step S ON RS.step_id = S.ID\n",
    "         WHERE R.tag_value LIKE '%tomato%' \n",
    "         AND R.tag_value LIKE '%soup%'\n",
    "         ;'''\n",
    "\n",
    "df_tomato_soup_steps = pd.read_sql(sql, conn)\n",
    "print(\"steps\")\n",
    "print(df_tomato_soup_steps)"
   ]
  },
  {
   "cell_type": "code",
   "execution_count": 3,
   "id": "minus-reality",
   "metadata": {},
   "outputs": [
    {
     "name": "stdout",
     "output_type": "stream",
     "text": [
      "ingredients\n",
      "                     tag_value\n",
      "0                       cheese\n",
      "1           green bell peppers\n",
      "2                         salt\n",
      "3      liquid hot pepper sauce\n",
      "4                     tomatoes\n",
      "...                        ...\n",
      "13044             green pepper\n",
      "13045                   celery\n",
      "13046                 tomatoes\n",
      "13047                    onion\n",
      "13048                     milk\n",
      "\n",
      "[13049 rows x 1 columns]\n"
     ]
    }
   ],
   "source": [
    "sql = '''SELECT R.ID, R.tag_value, N.tag_value \n",
    "         FROM recipe R \n",
    "         JOIN recipe_ner RN ON R.ID = RN.recipe_id\n",
    "         JOIN ner N ON RN.ner_id = N.ID\n",
    "         WHERE R.tag_value LIKE '%tomato%' \n",
    "         AND R.tag_value LIKE '%soup%'\n",
    "         ;'''\n",
    "\n",
    "df_tomato_soup_ner = pd.read_sql(sql, conn)\n",
    "\n",
    "\n",
    "print(\"ingredients\")\n",
    "print(df_tomato_soup_ner.iloc[:,2:3])"
   ]
  },
  {
   "cell_type": "code",
   "execution_count": 4,
   "id": "classical-running",
   "metadata": {},
   "outputs": [],
   "source": [
    "freq = df_tomato_soup_ner.iloc[:,2:3].value_counts().nlargest(30)"
   ]
  },
  {
   "cell_type": "code",
   "execution_count": 5,
   "id": "inside-sponsorship",
   "metadata": {},
   "outputs": [
    {
     "data": {
      "text/plain": [
       "tag_value             \n",
       "tomatoes                  886\n",
       "salt                      737\n",
       "garlic                    674\n",
       "onion                     503\n",
       "olive oil                 415\n",
       "water                     295\n",
       "basil                     274\n",
       "sugar                     260\n",
       "butter                    244\n",
       "chicken broth             228\n",
       "celery                    190\n",
       "fresh basil               170\n",
       "thyme                     169\n",
       "pepper                    162\n",
       "onions                    158\n",
       "tomato paste              149\n",
       "milk                      135\n",
       "carrots                   132\n",
       "parsley                   131\n",
       "flour                     127\n",
       "carrot                    110\n",
       "heavy cream               105\n",
       "chicken                   104\n",
       "oregano                   101\n",
       "tomato soup               100\n",
       "chicken stock              96\n",
       "black pepper               93\n",
       "extra virgin olive oil     88\n",
       "parmesan cheese            87\n",
       "extravirgin olive oil      84\n",
       "dtype: int64"
      ]
     },
     "execution_count": 5,
     "metadata": {},
     "output_type": "execute_result"
    }
   ],
   "source": [
    "freq"
   ]
  },
  {
   "cell_type": "code",
   "execution_count": 6,
   "id": "interstate-maker",
   "metadata": {},
   "outputs": [
    {
     "data": {
      "image/png": "[encoded data removed]",
      "text/plain": [
       "<Figure size 432x288 with 1 Axes>"
      ]
     },
     "metadata": {
      "needs_background": "light"
     },
     "output_type": "display_data"
    }
   ],
   "source": [
    "freq.plot(kind=\"bar\", title = \"ingredient frequencies of tomato soup\", xlabel = 'ingredient', color = 'red', alpha=0.7);"
   ]
  },
  {
   "cell_type": "code",
   "execution_count": 7,
   "id": "valid-balloon",
   "metadata": {},
   "outputs": [
    {
     "data": {
      "text/html": [
       "<div>\n",
       "<style scoped>\n",
       "    .dataframe tbody tr th:only-of-type {\n",
       "        vertical-align: middle;\n",
       "    }\n",
       "\n",
       "    .dataframe tbody tr th {\n",
       "        vertical-align: top;\n",
       "    }\n",
       "\n",
       "    .dataframe thead th {\n",
       "        text-align: right;\n",
       "    }\n",
       "</style>\n",
       "<table border=\"1\" class=\"dataframe\">\n",
       "  <thead>\n",
       "    <tr style=\"text-align: right;\">\n",
       "      <th></th>\n",
       "      <th>ID</th>\n",
       "      <th>tag_value</th>\n",
       "      <th>tag_value</th>\n",
       "    </tr>\n",
       "  </thead>\n",
       "  <tbody>\n",
       "    <tr>\n",
       "      <th>0</th>\n",
       "      <td>REC_1015</td>\n",
       "      <td>pepper and tomato cream soup</td>\n",
       "      <td>cheese</td>\n",
       "    </tr>\n",
       "    <tr>\n",
       "      <th>1</th>\n",
       "      <td>REC_1015</td>\n",
       "      <td>pepper and tomato cream soup</td>\n",
       "      <td>green bell peppers</td>\n",
       "    </tr>\n",
       "    <tr>\n",
       "      <th>2</th>\n",
       "      <td>REC_1015</td>\n",
       "      <td>pepper and tomato cream soup</td>\n",
       "      <td>salt</td>\n",
       "    </tr>\n",
       "    <tr>\n",
       "      <th>3</th>\n",
       "      <td>REC_1015</td>\n",
       "      <td>pepper and tomato cream soup</td>\n",
       "      <td>liquid hot pepper sauce</td>\n",
       "    </tr>\n",
       "    <tr>\n",
       "      <th>4</th>\n",
       "      <td>REC_1015</td>\n",
       "      <td>pepper and tomato cream soup</td>\n",
       "      <td>tomatoes</td>\n",
       "    </tr>\n",
       "  </tbody>\n",
       "</table>\n",
       "</div>"
      ],
      "text/plain": [
       "         ID                     tag_value                tag_value\n",
       "0  REC_1015  pepper and tomato cream soup                   cheese\n",
       "1  REC_1015  pepper and tomato cream soup       green bell peppers\n",
       "2  REC_1015  pepper and tomato cream soup                     salt\n",
       "3  REC_1015  pepper and tomato cream soup  liquid hot pepper sauce\n",
       "4  REC_1015  pepper and tomato cream soup                 tomatoes"
      ]
     },
     "execution_count": 7,
     "metadata": {},
     "output_type": "execute_result"
    }
   ],
   "source": [
    "df_tomato_soup_ner.head()"
   ]
  },
  {
   "cell_type": "code",
   "execution_count": 8,
   "id": "novel-slope",
   "metadata": {},
   "outputs": [],
   "source": [
    "# add column count to recipe table\n",
    "df = df_tomato_soup_ner.copy()\n",
    "recipe_count = df.groupby(by=\"ID\").count()\n",
    "recipe_count = recipe_count.iloc[:,1:2].reset_index().rename(columns = {'tag_value':'count'})\n",
    "dfc = df_tomato_soup_ner.merge(recipe_count, left_on='ID', right_on='ID')"
   ]
  },
  {
   "cell_type": "code",
   "execution_count": 9,
   "id": "voluntary-plain",
   "metadata": {},
   "outputs": [],
   "source": [
    "rc = recipe_count.drop_duplicates(subset = 'ID')"
   ]
  },
  {
   "cell_type": "code",
   "execution_count": 10,
   "id": "opened-scott",
   "metadata": {},
   "outputs": [
    {
     "data": {
      "text/html": [
       "<div>\n",
       "<style scoped>\n",
       "    .dataframe tbody tr th:only-of-type {\n",
       "        vertical-align: middle;\n",
       "    }\n",
       "\n",
       "    .dataframe tbody tr th {\n",
       "        vertical-align: top;\n",
       "    }\n",
       "\n",
       "    .dataframe thead th {\n",
       "        text-align: right;\n",
       "    }\n",
       "</style>\n",
       "<table border=\"1\" class=\"dataframe\">\n",
       "  <thead>\n",
       "    <tr style=\"text-align: right;\">\n",
       "      <th></th>\n",
       "      <th>count</th>\n",
       "    </tr>\n",
       "  </thead>\n",
       "  <tbody>\n",
       "    <tr>\n",
       "      <th>count</th>\n",
       "      <td>1265.000000</td>\n",
       "    </tr>\n",
       "    <tr>\n",
       "      <th>mean</th>\n",
       "      <td>10.315415</td>\n",
       "    </tr>\n",
       "    <tr>\n",
       "      <th>std</th>\n",
       "      <td>3.655578</td>\n",
       "    </tr>\n",
       "    <tr>\n",
       "      <th>min</th>\n",
       "      <td>2.000000</td>\n",
       "    </tr>\n",
       "    <tr>\n",
       "      <th>25%</th>\n",
       "      <td>8.000000</td>\n",
       "    </tr>\n",
       "    <tr>\n",
       "      <th>50%</th>\n",
       "      <td>10.000000</td>\n",
       "    </tr>\n",
       "    <tr>\n",
       "      <th>75%</th>\n",
       "      <td>12.000000</td>\n",
       "    </tr>\n",
       "    <tr>\n",
       "      <th>max</th>\n",
       "      <td>43.000000</td>\n",
       "    </tr>\n",
       "  </tbody>\n",
       "</table>\n",
       "</div>"
      ],
      "text/plain": [
       "             count\n",
       "count  1265.000000\n",
       "mean     10.315415\n",
       "std       3.655578\n",
       "min       2.000000\n",
       "25%       8.000000\n",
       "50%      10.000000\n",
       "75%      12.000000\n",
       "max      43.000000"
      ]
     },
     "execution_count": 10,
     "metadata": {},
     "output_type": "execute_result"
    }
   ],
   "source": [
    "rc.describe()"
   ]
  },
  {
   "cell_type": "code",
   "execution_count": 11,
   "id": "lined-siemens",
   "metadata": {
    "scrolled": true
   },
   "outputs": [
    {
     "data": {
      "text/plain": [
       "<AxesSubplot:title={'center':'tomato soup ingredients frequencies'}, xlabel='Frequency', ylabel='number of ingredients'>"
      ]
     },
     "execution_count": 11,
     "metadata": {},
     "output_type": "execute_result"
    },
    {
     "data": {
      "image/png": "[encoded data removed]",
      "text/plain": [
       "<Figure size 432x288 with 1 Axes>"
      ]
     },
     "metadata": {
      "needs_background": "light"
     },
     "output_type": "display_data"
    }
   ],
   "source": [
    "rc.plot(kind='hist',\n",
    "        alpha=0.7,\n",
    "        bins=60,\n",
    "        title='tomato soup ingredients frequencies',\n",
    "        grid=True,\n",
    "        orientation='horizontal',\n",
    "        color=['red'],\n",
    "        ylabel = \"number of ingredients\")"
   ]
  },
  {
   "cell_type": "markdown",
   "id": "another-thesis",
   "metadata": {},
   "source": [
    "# Get source information\n",
    "\n",
    "I tried a library geotext to find a hint for the origin https://geotext.readthedocs.io/en/latest/readme.html \n",
    "It uses the words of the recipe title to get the country keys. I downloaded the country information from https://www.geonames.org/countries/"
   ]
  },
  {
   "cell_type": "code",
   "execution_count": 31,
   "id": "modular-frame",
   "metadata": {},
   "outputs": [],
   "source": [
    "# Get origin\n",
    "def get_origin(text):\n",
    "    \"\"\" \n",
    "    function that searches for countries associated with a text\n",
    "    The words of the text needs to be capitalized and seperated by a comma\n",
    "    The Geotext returns a list of country abbreviations (isocodes)\n",
    "    It uses the country information from https://www.geonames.org/countries/ \n",
    "    to relate the name of the country to the isocode\n",
    "    \n",
    "    input: Text\n",
    "    output: country names seperated by space\n",
    "    \n",
    "    \"\"\"\n",
    "    countries = get_countries()\n",
    "    t = \"\"\n",
    "    textlist = text.split(\" \")\n",
    "    textlist = [word.capitalize() for word in textlist]\n",
    "    text = \",\".join(textlist)\n",
    "    result = GeoText(text).country_mentions.keys()\n",
    "    for i in result:\n",
    "        try:\n",
    "            t += countries.loc[countries['iso2'] == i.strip()]['country'].values[0] + ' '\n",
    "        except:\n",
    "            try:\n",
    "                t += {countries.loc[countries['fips'] == i.strip()]['country'].values[0]} + ' '\n",
    "            except:\n",
    "                t = i\n",
    "    return t\n",
    "\n",
    "\n",
    "def get_countries():\n",
    "    return pd.read_csv('countries', sep = '\\t')"
   ]
  },
  {
   "cell_type": "markdown",
   "id": "animated-restoration",
   "metadata": {},
   "source": [
    "# Fetch the selection from the database"
   ]
  },
  {
   "cell_type": "code",
   "execution_count": 61,
   "id": "romantic-motion",
   "metadata": {},
   "outputs": [],
   "source": [
    "sql = '''SELECT R.tag_value FROM recipe R \n",
    "         WHERE  R.tag_value LIKE '%soup%'\n",
    "         ;'''\n",
    "\n",
    "dft = pd.read_sql(sql, conn)"
   ]
  },
  {
   "cell_type": "markdown",
   "id": "miniature-organ",
   "metadata": {},
   "source": [
    "# get top 15 origin countries and plot them"
   ]
  },
  {
   "cell_type": "code",
   "execution_count": 62,
   "id": "dried-resort",
   "metadata": {},
   "outputs": [],
   "source": [
    "\n",
    "dft['origin'] = dft['tag_value'].apply(get_origin)\n",
    "dft = dft[dft.origin != '']\n",
    "dfnlargest = dft.origin.value_counts().nlargest(15)"
   ]
  },
  {
   "cell_type": "code",
   "execution_count": 65,
   "id": "chubby-helping",
   "metadata": {},
   "outputs": [
    {
     "data": {
      "text/plain": [
       "<AxesSubplot:title={'center':'Top 15'}>"
      ]
     },
     "execution_count": 65,
     "metadata": {},
     "output_type": "execute_result"
    },
    {
     "data": {
      "image/png": "[encoded data removed]",
      "text/plain": [
       "<Figure size 432x288 with 1 Axes>"
      ]
     },
     "metadata": {},
     "output_type": "display_data"
    }
   ],
   "source": [
    "dfnlargest.plot(kind='pie', ylabel = '', title='Top 15')"
   ]
  },
  {
   "cell_type": "code",
   "execution_count": 66,
   "id": "central-dating",
   "metadata": {},
   "outputs": [
    {
     "data": {
      "text/html": [
       "<div>\n",
       "<style scoped>\n",
       "    .dataframe tbody tr th:only-of-type {\n",
       "        vertical-align: middle;\n",
       "    }\n",
       "\n",
       "    .dataframe tbody tr th {\n",
       "        vertical-align: top;\n",
       "    }\n",
       "\n",
       "    .dataframe thead th {\n",
       "        text-align: right;\n",
       "    }\n",
       "</style>\n",
       "<table border=\"1\" class=\"dataframe\">\n",
       "  <thead>\n",
       "    <tr style=\"text-align: right;\">\n",
       "      <th></th>\n",
       "      <th>recipe title</th>\n",
       "      <th>origin</th>\n",
       "    </tr>\n",
       "  </thead>\n",
       "  <tbody>\n",
       "    <tr>\n",
       "      <th>14</th>\n",
       "      <td>lindas hot and sour soup  chinese</td>\n",
       "      <td>China</td>\n",
       "    </tr>\n",
       "    <tr>\n",
       "      <th>20</th>\n",
       "      <td>yellow split pea soup</td>\n",
       "      <td>Croatia</td>\n",
       "    </tr>\n",
       "    <tr>\n",
       "      <th>22</th>\n",
       "      <td>dijon potato leek soup</td>\n",
       "      <td>France Netherlands</td>\n",
       "    </tr>\n",
       "    <tr>\n",
       "      <th>23</th>\n",
       "      <td>hot or cold leek soup</td>\n",
       "      <td>Netherlands</td>\n",
       "    </tr>\n",
       "    <tr>\n",
       "      <th>24</th>\n",
       "      <td>pho ga vietnamese chicken noodle soup</td>\n",
       "      <td>Vietnam</td>\n",
       "    </tr>\n",
       "    <tr>\n",
       "      <th>...</th>\n",
       "      <td>...</td>\n",
       "      <td>...</td>\n",
       "    </tr>\n",
       "    <tr>\n",
       "      <th>20382</th>\n",
       "      <td>roasted sunchoke jerusalem artichoke soup</td>\n",
       "      <td>Israel</td>\n",
       "    </tr>\n",
       "    <tr>\n",
       "      <th>20389</th>\n",
       "      <td>chicken thai soup</td>\n",
       "      <td>Taiwan</td>\n",
       "    </tr>\n",
       "    <tr>\n",
       "      <th>20393</th>\n",
       "      <td>south of the border cheesy potato soup</td>\n",
       "      <td>Turkey</td>\n",
       "    </tr>\n",
       "    <tr>\n",
       "      <th>20394</th>\n",
       "      <td>nilagang patabaka filipino porkbeef broth soup...</td>\n",
       "      <td>Philippines</td>\n",
       "    </tr>\n",
       "    <tr>\n",
       "      <th>20397</th>\n",
       "      <td>cream of cauliflower soup</td>\n",
       "      <td>Turkey</td>\n",
       "    </tr>\n",
       "  </tbody>\n",
       "</table>\n",
       "<p>4151 rows × 2 columns</p>\n",
       "</div>"
      ],
      "text/plain": [
       "                                            recipe title               origin\n",
       "14                     lindas hot and sour soup  chinese               China \n",
       "20                                 yellow split pea soup             Croatia \n",
       "22                                dijon potato leek soup  France Netherlands \n",
       "23                                 hot or cold leek soup         Netherlands \n",
       "24                 pho ga vietnamese chicken noodle soup             Vietnam \n",
       "...                                                  ...                  ...\n",
       "20382          roasted sunchoke jerusalem artichoke soup              Israel \n",
       "20389                                  chicken thai soup              Taiwan \n",
       "20393             south of the border cheesy potato soup              Turkey \n",
       "20394  nilagang patabaka filipino porkbeef broth soup...         Philippines \n",
       "20397                          cream of cauliflower soup              Turkey \n",
       "\n",
       "[4151 rows x 2 columns]"
      ]
     },
     "execution_count": 66,
     "metadata": {},
     "output_type": "execute_result"
    }
   ],
   "source": [
    "dft = dft.rename(columns={'tag_value':'recipe title'})\n",
    "dft"
   ]
  },
  {
   "cell_type": "code",
   "execution_count": null,
   "id": "amended-performer",
   "metadata": {},
   "outputs": [],
   "source": []
  }
 ],
 "metadata": {
  "kernelspec": {
   "display_name": "Python 3",
   "language": "python",
   "name": "python3"
  },
  "language_info": {
   "codemirror_mode": {
    "name": "ipython",
    "version": 3
   },
   "file_extension": ".py",
   "mimetype": "text/x-python",
   "name": "python",
   "nbconvert_exporter": "python",
   "pygments_lexer": "ipython3",
   "version": "3.8.2"
  }
 },
 "nbformat": 4,
 "nbformat_minor": 5
}
