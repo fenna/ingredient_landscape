{
 "cells": [
  {
   "cell_type": "code",
   "execution_count": 40,
   "id": "concrete-requirement",
   "metadata": {},
   "outputs": [],
   "source": [
    "import pandas as pd\n",
    "import sqlite3\n",
    "conn = sqlite3.connect('recipe.db')\n",
    "import matplotlib as plt"
   ]
  },
  {
   "cell_type": "code",
   "execution_count": 9,
   "id": "english-angel",
   "metadata": {},
   "outputs": [
    {
     "name": "stdout",
     "output_type": "stream",
     "text": [
      "steps\n",
      "                          tag_value  \\\n",
      "0      pepper and tomato cream soup   \n",
      "1      pepper and tomato cream soup   \n",
      "2      pepper and tomato cream soup   \n",
      "3      pepper and tomato cream soup   \n",
      "4      pepper and tomato cream soup   \n",
      "...                             ...   \n",
      "13035      my homestyle tomato soup   \n",
      "13036      my homestyle tomato soup   \n",
      "13037      my homestyle tomato soup   \n",
      "13038      my homestyle tomato soup   \n",
      "13039      my homestyle tomato soup   \n",
      "\n",
      "                                               tag_value  \n",
      "0      in a wide-bottomed saucepan, add tomatoes and ...  \n",
      "1                            cook until peppers are limp  \n",
      "2       add broth and simmer slowly for about 10 minutes  \n",
      "3      stir in milk, add salt and hot pepper seasonin...  \n",
      "4         mix cheese into the soup and serve immediately  \n",
      "...                                                  ...  \n",
      "13035                                             season  \n",
      "13036  cook celery, onion, and green pepper in 1 cup ...  \n",
      "13037                   add tomatoes; cook for 7 minutes  \n",
      "13038    heat milk in doulble boiler; add tomato mixture  \n",
      "13039                                      serve at once  \n",
      "\n",
      "[13040 rows x 2 columns]\n"
     ]
    }
   ],
   "source": [
    "sql = '''SELECT R.tag_value, S.tag_value \n",
    "         FROM recipe R \n",
    "         JOIN recipe_step RS ON R.ID = RS.recipe_id\n",
    "         JOIN step S ON RS.step_id = S.ID\n",
    "         WHERE R.tag_value LIKE '%tomato%' \n",
    "         AND R.tag_value LIKE '%soup%'\n",
    "         ;'''\n",
    "\n",
    "df_tomato_soup_steps = pd.read_sql(sql, conn)\n",
    "print(\"steps\")\n",
    "print(df_tomato_soup_steps)"
   ]
  },
  {
   "cell_type": "code",
   "execution_count": 55,
   "id": "minus-reality",
   "metadata": {},
   "outputs": [
    {
     "name": "stdout",
     "output_type": "stream",
     "text": [
      "ingredients\n",
      "                     tag_value\n",
      "0                         milk\n",
      "1                       cheese\n",
      "2           green bell peppers\n",
      "3                         salt\n",
      "4      liquid hot pepper sauce\n",
      "...                        ...\n",
      "13044             green pepper\n",
      "13045                     salt\n",
      "13046                   celery\n",
      "13047                 tomatoes\n",
      "13048                    onion\n",
      "\n",
      "[13049 rows x 1 columns]\n"
     ]
    }
   ],
   "source": [
    "sql = '''SELECT R.ID, R.tag_value, N.tag_value \n",
    "         FROM recipe R \n",
    "         JOIN recipe_ner RN ON R.ID = RN.recipe_id\n",
    "         JOIN ner N ON RN.ner_id = N.ID\n",
    "         WHERE R.tag_value LIKE '%tomato%' \n",
    "         AND R.tag_value LIKE '%soup%'\n",
    "         ;'''\n",
    "\n",
    "df_tomato_soup_ner = pd.read_sql(sql, conn)\n",
    "\n",
    "\n",
    "print(\"ingredients\")\n",
    "print(df_tomato_soup_ner.iloc[:,2:3])"
   ]
  },
  {
   "cell_type": "code",
   "execution_count": 56,
   "id": "classical-running",
   "metadata": {},
   "outputs": [],
   "source": [
    "freq = df_tomato_soup_ner.iloc[:,2:3].value_counts().nlargest(30)"
   ]
  },
  {
   "cell_type": "code",
   "execution_count": 57,
   "id": "inside-sponsorship",
   "metadata": {},
   "outputs": [
    {
     "data": {
      "text/plain": [
       "tag_value             \n",
       "tomatoes                  886\n",
       "salt                      737\n",
       "garlic                    674\n",
       "onion                     503\n",
       "olive oil                 415\n",
       "water                     295\n",
       "basil                     274\n",
       "sugar                     260\n",
       "butter                    244\n",
       "chicken broth             228\n",
       "celery                    190\n",
       "fresh basil               170\n",
       "thyme                     169\n",
       "pepper                    162\n",
       "onions                    158\n",
       "tomato paste              149\n",
       "milk                      135\n",
       "carrots                   132\n",
       "parsley                   131\n",
       "flour                     127\n",
       "carrot                    110\n",
       "heavy cream               105\n",
       "chicken                   104\n",
       "oregano                   101\n",
       "tomato soup               100\n",
       "chicken stock              96\n",
       "black pepper               93\n",
       "extra virgin olive oil     88\n",
       "parmesan cheese            87\n",
       "extravirgin olive oil      84\n",
       "dtype: int64"
      ]
     },
     "execution_count": 57,
     "metadata": {},
     "output_type": "execute_result"
    }
   ],
   "source": [
    "freq"
   ]
  },
  {
   "cell_type": "code",
   "execution_count": 115,
   "id": "interstate-maker",
   "metadata": {},
   "outputs": [
    {
     "data": {
      "image/png": "[encoded data removed]",
      "text/plain": [
       "<Figure size 432x288 with 1 Axes>"
      ]
     },
     "metadata": {
      "needs_background": "light"
     },
     "output_type": "display_data"
    }
   ],
   "source": [
    "freq.plot(kind=\"bar\", title = \"ingredient frequencies of tomato soup\", xlabel = 'ingredient', color = 'red', alpha=0.7);"
   ]
  },
  {
   "cell_type": "code",
   "execution_count": 92,
   "id": "valid-balloon",
   "metadata": {},
   "outputs": [
    {
     "data": {
      "text/html": [
       "<div>\n",
       "<style scoped>\n",
       "    .dataframe tbody tr th:only-of-type {\n",
       "        vertical-align: middle;\n",
       "    }\n",
       "\n",
       "    .dataframe tbody tr th {\n",
       "        vertical-align: top;\n",
       "    }\n",
       "\n",
       "    .dataframe thead th {\n",
       "        text-align: right;\n",
       "    }\n",
       "</style>\n",
       "<table border=\"1\" class=\"dataframe\">\n",
       "  <thead>\n",
       "    <tr style=\"text-align: right;\">\n",
       "      <th></th>\n",
       "      <th>ID</th>\n",
       "      <th>tag_value</th>\n",
       "      <th>tag_value</th>\n",
       "    </tr>\n",
       "  </thead>\n",
       "  <tbody>\n",
       "    <tr>\n",
       "      <th>0</th>\n",
       "      <td>REC_1015</td>\n",
       "      <td>pepper and tomato cream soup</td>\n",
       "      <td>milk</td>\n",
       "    </tr>\n",
       "    <tr>\n",
       "      <th>1</th>\n",
       "      <td>REC_1015</td>\n",
       "      <td>pepper and tomato cream soup</td>\n",
       "      <td>cheese</td>\n",
       "    </tr>\n",
       "    <tr>\n",
       "      <th>2</th>\n",
       "      <td>REC_1015</td>\n",
       "      <td>pepper and tomato cream soup</td>\n",
       "      <td>green bell peppers</td>\n",
       "    </tr>\n",
       "    <tr>\n",
       "      <th>3</th>\n",
       "      <td>REC_1015</td>\n",
       "      <td>pepper and tomato cream soup</td>\n",
       "      <td>salt</td>\n",
       "    </tr>\n",
       "    <tr>\n",
       "      <th>4</th>\n",
       "      <td>REC_1015</td>\n",
       "      <td>pepper and tomato cream soup</td>\n",
       "      <td>liquid hot pepper sauce</td>\n",
       "    </tr>\n",
       "  </tbody>\n",
       "</table>\n",
       "</div>"
      ],
      "text/plain": [
       "         ID                     tag_value                tag_value\n",
       "0  REC_1015  pepper and tomato cream soup                     milk\n",
       "1  REC_1015  pepper and tomato cream soup                   cheese\n",
       "2  REC_1015  pepper and tomato cream soup       green bell peppers\n",
       "3  REC_1015  pepper and tomato cream soup                     salt\n",
       "4  REC_1015  pepper and tomato cream soup  liquid hot pepper sauce"
      ]
     },
     "execution_count": 92,
     "metadata": {},
     "output_type": "execute_result"
    }
   ],
   "source": [
    "df_tomato_soup_ner.head()"
   ]
  },
  {
   "cell_type": "code",
   "execution_count": 90,
   "id": "novel-slope",
   "metadata": {},
   "outputs": [],
   "source": [
    "# add column count to recipe table\n",
    "df = df_tomato_soup_ner.copy()\n",
    "recipe_count = df.groupby(by=\"ID\").count()\n",
    "recipe_count = recipe_count.iloc[:,1:2].reset_index().rename(columns = {'tag_value':'count'})\n",
    "dfc = df_tomato_soup_ner.merge(recipe_count, left_on='ID', right_on='ID')"
   ]
  },
  {
   "cell_type": "code",
   "execution_count": 97,
   "id": "voluntary-plain",
   "metadata": {},
   "outputs": [],
   "source": [
    "rc = recipe_count.drop_duplicates(subset = 'ID')"
   ]
  },
  {
   "cell_type": "code",
   "execution_count": 103,
   "id": "opened-scott",
   "metadata": {},
   "outputs": [
    {
     "data": {
      "text/html": [
       "<div>\n",
       "<style scoped>\n",
       "    .dataframe tbody tr th:only-of-type {\n",
       "        vertical-align: middle;\n",
       "    }\n",
       "\n",
       "    .dataframe tbody tr th {\n",
       "        vertical-align: top;\n",
       "    }\n",
       "\n",
       "    .dataframe thead th {\n",
       "        text-align: right;\n",
       "    }\n",
       "</style>\n",
       "<table border=\"1\" class=\"dataframe\">\n",
       "  <thead>\n",
       "    <tr style=\"text-align: right;\">\n",
       "      <th></th>\n",
       "      <th>count</th>\n",
       "    </tr>\n",
       "  </thead>\n",
       "  <tbody>\n",
       "    <tr>\n",
       "      <th>count</th>\n",
       "      <td>1265.000000</td>\n",
       "    </tr>\n",
       "    <tr>\n",
       "      <th>mean</th>\n",
       "      <td>10.315415</td>\n",
       "    </tr>\n",
       "    <tr>\n",
       "      <th>std</th>\n",
       "      <td>3.655578</td>\n",
       "    </tr>\n",
       "    <tr>\n",
       "      <th>min</th>\n",
       "      <td>2.000000</td>\n",
       "    </tr>\n",
       "    <tr>\n",
       "      <th>25%</th>\n",
       "      <td>8.000000</td>\n",
       "    </tr>\n",
       "    <tr>\n",
       "      <th>50%</th>\n",
       "      <td>10.000000</td>\n",
       "    </tr>\n",
       "    <tr>\n",
       "      <th>75%</th>\n",
       "      <td>12.000000</td>\n",
       "    </tr>\n",
       "    <tr>\n",
       "      <th>max</th>\n",
       "      <td>43.000000</td>\n",
       "    </tr>\n",
       "  </tbody>\n",
       "</table>\n",
       "</div>"
      ],
      "text/plain": [
       "             count\n",
       "count  1265.000000\n",
       "mean     10.315415\n",
       "std       3.655578\n",
       "min       2.000000\n",
       "25%       8.000000\n",
       "50%      10.000000\n",
       "75%      12.000000\n",
       "max      43.000000"
      ]
     },
     "execution_count": 103,
     "metadata": {},
     "output_type": "execute_result"
    }
   ],
   "source": [
    "rc.describe()"
   ]
  },
  {
   "cell_type": "code",
   "execution_count": 124,
   "id": "lined-siemens",
   "metadata": {},
   "outputs": [
    {
     "data": {
      "text/plain": [
       "<AxesSubplot:title={'center':'tomato soup ingredients frequencies'}, xlabel='Frequency', ylabel='number of ingredients'>"
      ]
     },
     "execution_count": 124,
     "metadata": {},
     "output_type": "execute_result"
    },
    {
     "data": {
      "image/png": "[encoded data removed]",
      "text/plain": [
       "<Figure size 432x288 with 1 Axes>"
      ]
     },
     "metadata": {
      "needs_background": "light"
     },
     "output_type": "display_data"
    }
   ],
   "source": [
    "rc.plot(kind='hist',\n",
    "        alpha=0.7,\n",
    "        bins=60,\n",
    "        title='tomato soup ingredients frequencies',\n",
    "        grid=True,\n",
    "        orientation='horizontal',\n",
    "        color=['red'],\n",
    "        ylabel = \"number of ingredients\")"
   ]
  },
  {
   "cell_type": "code",
   "execution_count": null,
   "id": "modular-frame",
   "metadata": {},
   "outputs": [],
   "source": []
  }
 ],
 "metadata": {
  "kernelspec": {
   "display_name": "Python 3",
   "language": "python",
   "name": "python3"
  },
  "language_info": {
   "codemirror_mode": {
    "name": "ipython",
    "version": 3
   },
   "file_extension": ".py",
   "mimetype": "text/x-python",
   "name": "python",
   "nbconvert_exporter": "python",
   "pygments_lexer": "ipython3",
   "version": "3.9.1"
  }
 },
 "nbformat": 4,
 "nbformat_minor": 5
}
